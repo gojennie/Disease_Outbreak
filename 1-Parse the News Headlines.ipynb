{
 "cells": [
  {
   "cell_type": "markdown",
   "metadata": {},
   "source": [
    "# 1st Part out of 5\n",
    "## Let's parse the News Headlines \n",
    "Things to do: \n",
    "Load in the headline data and examine it for any data quality issues.\n",
    "\n",
    "Use any library/data structure to read in the headlines.\n",
    "\n",
    "Read through some of the headlines and identify potential problems."
   ]
  },
  {
   "cell_type": "code",
   "execution_count": 26,
   "metadata": {},
   "outputs": [
    {
     "output_type": "execute_result",
     "data": {
      "text/plain": "'c:\\\\Users\\\\narus\\\\JC_SDrive\\\\VSC\\\\Github\\\\Disease_Outbreak'"
     },
     "metadata": {},
     "execution_count": 26
    }
   ],
   "source": [
    "# Start with importing few libraries\n",
    "import pandas as pd"
   ]
  },
  {
   "cell_type": "markdown",
   "metadata": {},
   "source": [
    "## Create headlines df and load in the headline data\n",
    "### Look for some data quality issues"
   ]
  },
  {
   "cell_type": "code",
   "execution_count": 28,
   "metadata": {
    "tags": []
   },
   "outputs": [
    {
     "output_type": "stream",
     "name": "stdout",
     "text": "650 headlines have been loaded\n"
    }
   ],
   "source": [
    "# Create dataframe using pandas\n",
    "# Important to put seperator as None, otherwise it seperates using comma since it is a csv file\n",
    "# Encoding must be set to utf-8 so that dashes and accents show up normally\n",
    "headlines = pd.read_csv('data/headlines.txt', header=None, sep='None', encoding='utf-8')\n",
    "\n",
    "# change headline type to str, otherwise will not be able to iterate in matched_cities and matched_countries\n",
    "headlines = headlines[0].astype(str)\n",
    "\n",
    "# let's check number of headlines by checking len()\n",
    "num_headlines = len(headlines)\n",
    "print(f\"{num_headlines} headlines have been loaded\")\n"
   ]
  },
  {
   "cell_type": "code",
   "execution_count": 29,
   "metadata": {},
   "outputs": [
    {
     "output_type": "execute_result",
     "data": {
      "text/plain": "0                               Zika Outbreak Hits Miami\n1                        Could Zika Reach New York City?\n2                      First Case of Zika in Miami Beach\n3                Mystery Virus Spreads in Recife, Brazil\n4                Dallas man comes down with case of Zika\n                             ...                        \n645    Rumors about Rabies spreading in Jerusalem hav...\n646                More Zika patients reported in Indang\n647    Suva authorities confirmed the spread of Rotav...\n648           More Zika patients reported in Bella Vista\n649                       Zika Outbreak in Wichita Falls\nName: 0, Length: 650, dtype: object"
     },
     "metadata": {},
     "execution_count": 29
    }
   ],
   "source": [
    "# Show top 50 headlines to see what it looks like\n",
    "headlines"
   ]
  },
  {
   "cell_type": "markdown",
   "metadata": {},
   "source": [
    "## Extracting locations from headline Data"
   ]
  },
  {
   "cell_type": "code",
   "execution_count": 30,
   "metadata": {},
   "outputs": [],
   "source": [
    "# Create a function that transforms *gc location names* into a case-independent and accent-independent regular expression\n",
    "# Converting names to regexes\n",
    "# **This function will be used later to map between regex and original names from geonamescache**\n",
    "\n",
    "import re\n",
    "from unidecode import unidecode # import unidecode function from unidecode module\n",
    "\n",
    "def name_to_regex(name):\n",
    "    decoded_name = unidecode(name) \n",
    "    if name != decoded_name:\n",
    "        regex = fr'\\b({name}|{decoded_name})\\b'\n",
    "    else:\n",
    "        regex = fr'\\b{name}\\b'\n",
    "    return re.compile(regex, flags=re.IGNORECASE)\n",
    "\n",
    " # unidecode to strip accents from characters\n",
    " # if name doesn't equal decoded name, use name or decoded name as regex\n",
    " # not sure what fr does\n",
    " # re.IGNORECASE to perform case-insensitive matching\n",
    " # name_to_regex will return (using re.compile) good location names"
   ]
  },
  {
   "cell_type": "code",
   "execution_count": 31,
   "metadata": {},
   "outputs": [],
   "source": [
    "# This is where we link the regex to country-names and city-names\n",
    "\n",
    "import geonamescache\n",
    "gc = geonamescache.GeonamesCache()\n",
    "\n",
    "# Create list of countries based on existing list from gc using list comprehension\n",
    "countries = [country['name']\n",
    "             for country in gc.get_countries().values()]\n",
    "# Create a dictionary to map regex Country to gc country name\n",
    "country_to_name = {name_to_regex(name): name\n",
    "                   for name in countries}\n",
    "\n",
    "# Create a list of cities based on existing list from gc using list comprehension\n",
    "cities = [city['name'] for city in gc.get_cities().values()]\n",
    "\n",
    "# Create a dictionary to map regex City to gc city name\n",
    "city_to_name = {name_to_regex(name): name \n",
    "                for name in cities}"
   ]
  },
  {
   "cell_type": "code",
   "execution_count": 32,
   "metadata": {},
   "outputs": [],
   "source": [
    "# Let's create a function that creates a sorted country_to_name or city_to_name dictionary and for each dictionary item (regex, name) it searches for a match within the text (headline)\n",
    "# Returns gc location name from the text (headline)\n",
    "# For each line in the sorted dictionary (country_to_name or city_to_name), if text (headlines) matches the regex, return the name\n",
    "\n",
    "\n",
    "def get_name_in_text(text, dictionary):\n",
    "    for regex, name in sorted(dictionary.items(),\n",
    "                              key=lambda x: x[1]):\n",
    "        if regex.search(text):\n",
    "            return name\n",
    "    return None\n",
    "\n",
    "# for (this *inner*) <var> in <iterable> (list, tuple, collection of objects):\n",
    "#   <statements(s)> (do this)\n",
    "# dictionary.items() creates an iterable list with the items in a list \n",
    "# key=lambda x: x[1] is a sorting mechanism that sorts our dictionary by value\n",
    "# iterating over dictionaries gives us a non-deterministic sequence of results. A change in sequence-order could alter which locations get matched to the inputted text. This is especially true if multiple locations are present in text. Sorting by location name ensures that function output will not change from run to run."
   ]
  },
  {
   "cell_type": "code",
   "execution_count": 33,
   "metadata": {},
   "outputs": [],
   "source": [
    "# Let's use the function get_name_in_text to find the cities and countries mentioned in the headlines list\n",
    "# We will store the results in the df pandas table\n",
    "matched_countries = [get_name_in_text(headline, country_to_name)\n",
    "                     for headline in headlines]\n",
    "matched_cities = [get_name_in_text(headline, city_to_name)\n",
    "                  for headline in headlines]\n",
    "data = {'Headline': headlines, 'City': matched_cities,\n",
    "        'Country': matched_countries}\n",
    "df = pd.DataFrame(data)"
   ]
  },
  {
   "cell_type": "code",
   "execution_count": 34,
   "metadata": {},
   "outputs": [
    {
     "output_type": "execute_result",
     "data": {
      "text/plain": "                                             Headline              City  \\\n0                            Zika Outbreak Hits Miami             Miami   \n1                     Could Zika Reach New York City?     New York City   \n2                   First Case of Zika in Miami Beach             Miami   \n3             Mystery Virus Spreads in Recife, Brazil            Recife   \n4             Dallas man comes down with case of Zika            Dallas   \n5                   Trinidad confirms first Zika case          Trinidad   \n6              Zika Concerns are Spreading in Houston           Houston   \n7               Geneve Scientists Battle to Find Cure            Genève   \n8               The CDC in Atlanta is Growing Worried           Atlanta   \n9                  Zika Infested Monkeys in Sao Paulo         São Paulo   \n10              Brownsville teen contracts Zika virus       Brownsville   \n11  Mosquito control efforts in St. Louis take new...         St. Louis   \n12  San Juan reports 1st U.S. Zika-related death a...               San   \n13                   Flu outbreak in Galveston, Texas         Galveston   \n14                 Zika alert – Manila now threatened            Manila   \n15                     Zika afflicts 7 in Iloilo City            Iloilo   \n16               New Los Angeles Hairstyle goes Viral              Goes   \n17                      Louisiana Zika cases up to 26              None   \n18               Orlando volunteers aid Zika research           Orlando   \n19                Zika infects pregnant woman in Cebu              None   \n20                Chicago's First Zika Case Confirmed           Chicago   \n21              Tampa Bay Area Zika Case Count Climbs               Bay   \n22     Bad Water Leads to Sickness in Flint, Michigan             Flint   \n23                     Baltimore plans for Zika virus         Baltimore   \n24          London Health Unit Tracks Mad Cow Disease            London   \n25     Zika cases in Vietnam's Ho Chi Minh City surge                Ho   \n26                Philadelphia experts track pandemic      Philadelphia   \n27                             Flu season hits Boston            Boston   \n28            Scientists in Paris to look for answers             Paris   \n29           Key Zika Findings in San Diego Institute               San   \n30                     Thailand-Zika Virus in Bangkok           Bangkok   \n31                    Beijing team cracks Zika secret           Beijing   \n32                         Zika spreading to Salvador          Salvador   \n33                 Kuala Lumpur is Hit By Zika Threat               Hīt   \n34                First Zika case confirmed in Yangon            Yangon   \n35             Tallahassee Doctors Discuss Zika Virus       Tallahassee   \n36                   Zika Virus Reaches San Francisco               San   \n37          New Vaccine on Trial in Bethesda District          Bethesda   \n38                 Townsville Zika tests inconclusive        Townsville   \n39              Mandaluyong City under Siege by Virus  Mandaluyong City   \n40               Hepatitis E re-emerges in Santa Rosa        Santa Rosa   \n41                       Zika worries in San Salvador          Salvador   \n42                   Zika virus reported in Cleveland         Cleveland   \n43              More Zika patients reported in Austin            Austin   \n44                Zika outbreak in Piracicaba, Brazil        Piracicaba   \n45                Lima tries to address Zika Concerns              Lima   \n46  More people in Toronto are infected with Hepat...           Toronto   \n47                        18 new Zika Cases in Bogota            Bogotá   \n48                     Spanish Flu Sighted in Antigua              None   \n49               Brisbane is infested with Meningitis          Brisbane   \n\n     Country  \n0       None  \n1       None  \n2       None  \n3     Brazil  \n4       None  \n5       None  \n6       None  \n7       None  \n8       None  \n9       None  \n10      None  \n11      None  \n12      None  \n13      None  \n14      None  \n15      None  \n16      None  \n17      None  \n18      None  \n19      None  \n20      None  \n21      None  \n22      None  \n23      None  \n24      None  \n25   Vietnam  \n26      None  \n27      None  \n28      None  \n29      None  \n30  Thailand  \n31      None  \n32      None  \n33      None  \n34      None  \n35      None  \n36      None  \n37      None  \n38      None  \n39      None  \n40      None  \n41      None  \n42      None  \n43      None  \n44    Brazil  \n45      None  \n46      None  \n47      None  \n48      None  \n49      None  ",
      "text/html": "<div>\n<style scoped>\n    .dataframe tbody tr th:only-of-type {\n        vertical-align: middle;\n    }\n\n    .dataframe tbody tr th {\n        vertical-align: top;\n    }\n\n    .dataframe thead th {\n        text-align: right;\n    }\n</style>\n<table border=\"1\" class=\"dataframe\">\n  <thead>\n    <tr style=\"text-align: right;\">\n      <th></th>\n      <th>Headline</th>\n      <th>City</th>\n      <th>Country</th>\n    </tr>\n  </thead>\n  <tbody>\n    <tr>\n      <th>0</th>\n      <td>Zika Outbreak Hits Miami</td>\n      <td>Miami</td>\n      <td>None</td>\n    </tr>\n    <tr>\n      <th>1</th>\n      <td>Could Zika Reach New York City?</td>\n      <td>New York City</td>\n      <td>None</td>\n    </tr>\n    <tr>\n      <th>2</th>\n      <td>First Case of Zika in Miami Beach</td>\n      <td>Miami</td>\n      <td>None</td>\n    </tr>\n    <tr>\n      <th>3</th>\n      <td>Mystery Virus Spreads in Recife, Brazil</td>\n      <td>Recife</td>\n      <td>Brazil</td>\n    </tr>\n    <tr>\n      <th>4</th>\n      <td>Dallas man comes down with case of Zika</td>\n      <td>Dallas</td>\n      <td>None</td>\n    </tr>\n    <tr>\n      <th>5</th>\n      <td>Trinidad confirms first Zika case</td>\n      <td>Trinidad</td>\n      <td>None</td>\n    </tr>\n    <tr>\n      <th>6</th>\n      <td>Zika Concerns are Spreading in Houston</td>\n      <td>Houston</td>\n      <td>None</td>\n    </tr>\n    <tr>\n      <th>7</th>\n      <td>Geneve Scientists Battle to Find Cure</td>\n      <td>Genève</td>\n      <td>None</td>\n    </tr>\n    <tr>\n      <th>8</th>\n      <td>The CDC in Atlanta is Growing Worried</td>\n      <td>Atlanta</td>\n      <td>None</td>\n    </tr>\n    <tr>\n      <th>9</th>\n      <td>Zika Infested Monkeys in Sao Paulo</td>\n      <td>São Paulo</td>\n      <td>None</td>\n    </tr>\n    <tr>\n      <th>10</th>\n      <td>Brownsville teen contracts Zika virus</td>\n      <td>Brownsville</td>\n      <td>None</td>\n    </tr>\n    <tr>\n      <th>11</th>\n      <td>Mosquito control efforts in St. Louis take new...</td>\n      <td>St. Louis</td>\n      <td>None</td>\n    </tr>\n    <tr>\n      <th>12</th>\n      <td>San Juan reports 1st U.S. Zika-related death a...</td>\n      <td>San</td>\n      <td>None</td>\n    </tr>\n    <tr>\n      <th>13</th>\n      <td>Flu outbreak in Galveston, Texas</td>\n      <td>Galveston</td>\n      <td>None</td>\n    </tr>\n    <tr>\n      <th>14</th>\n      <td>Zika alert – Manila now threatened</td>\n      <td>Manila</td>\n      <td>None</td>\n    </tr>\n    <tr>\n      <th>15</th>\n      <td>Zika afflicts 7 in Iloilo City</td>\n      <td>Iloilo</td>\n      <td>None</td>\n    </tr>\n    <tr>\n      <th>16</th>\n      <td>New Los Angeles Hairstyle goes Viral</td>\n      <td>Goes</td>\n      <td>None</td>\n    </tr>\n    <tr>\n      <th>17</th>\n      <td>Louisiana Zika cases up to 26</td>\n      <td>None</td>\n      <td>None</td>\n    </tr>\n    <tr>\n      <th>18</th>\n      <td>Orlando volunteers aid Zika research</td>\n      <td>Orlando</td>\n      <td>None</td>\n    </tr>\n    <tr>\n      <th>19</th>\n      <td>Zika infects pregnant woman in Cebu</td>\n      <td>None</td>\n      <td>None</td>\n    </tr>\n    <tr>\n      <th>20</th>\n      <td>Chicago's First Zika Case Confirmed</td>\n      <td>Chicago</td>\n      <td>None</td>\n    </tr>\n    <tr>\n      <th>21</th>\n      <td>Tampa Bay Area Zika Case Count Climbs</td>\n      <td>Bay</td>\n      <td>None</td>\n    </tr>\n    <tr>\n      <th>22</th>\n      <td>Bad Water Leads to Sickness in Flint, Michigan</td>\n      <td>Flint</td>\n      <td>None</td>\n    </tr>\n    <tr>\n      <th>23</th>\n      <td>Baltimore plans for Zika virus</td>\n      <td>Baltimore</td>\n      <td>None</td>\n    </tr>\n    <tr>\n      <th>24</th>\n      <td>London Health Unit Tracks Mad Cow Disease</td>\n      <td>London</td>\n      <td>None</td>\n    </tr>\n    <tr>\n      <th>25</th>\n      <td>Zika cases in Vietnam's Ho Chi Minh City surge</td>\n      <td>Ho</td>\n      <td>Vietnam</td>\n    </tr>\n    <tr>\n      <th>26</th>\n      <td>Philadelphia experts track pandemic</td>\n      <td>Philadelphia</td>\n      <td>None</td>\n    </tr>\n    <tr>\n      <th>27</th>\n      <td>Flu season hits Boston</td>\n      <td>Boston</td>\n      <td>None</td>\n    </tr>\n    <tr>\n      <th>28</th>\n      <td>Scientists in Paris to look for answers</td>\n      <td>Paris</td>\n      <td>None</td>\n    </tr>\n    <tr>\n      <th>29</th>\n      <td>Key Zika Findings in San Diego Institute</td>\n      <td>San</td>\n      <td>None</td>\n    </tr>\n    <tr>\n      <th>30</th>\n      <td>Thailand-Zika Virus in Bangkok</td>\n      <td>Bangkok</td>\n      <td>Thailand</td>\n    </tr>\n    <tr>\n      <th>31</th>\n      <td>Beijing team cracks Zika secret</td>\n      <td>Beijing</td>\n      <td>None</td>\n    </tr>\n    <tr>\n      <th>32</th>\n      <td>Zika spreading to Salvador</td>\n      <td>Salvador</td>\n      <td>None</td>\n    </tr>\n    <tr>\n      <th>33</th>\n      <td>Kuala Lumpur is Hit By Zika Threat</td>\n      <td>Hīt</td>\n      <td>None</td>\n    </tr>\n    <tr>\n      <th>34</th>\n      <td>First Zika case confirmed in Yangon</td>\n      <td>Yangon</td>\n      <td>None</td>\n    </tr>\n    <tr>\n      <th>35</th>\n      <td>Tallahassee Doctors Discuss Zika Virus</td>\n      <td>Tallahassee</td>\n      <td>None</td>\n    </tr>\n    <tr>\n      <th>36</th>\n      <td>Zika Virus Reaches San Francisco</td>\n      <td>San</td>\n      <td>None</td>\n    </tr>\n    <tr>\n      <th>37</th>\n      <td>New Vaccine on Trial in Bethesda District</td>\n      <td>Bethesda</td>\n      <td>None</td>\n    </tr>\n    <tr>\n      <th>38</th>\n      <td>Townsville Zika tests inconclusive</td>\n      <td>Townsville</td>\n      <td>None</td>\n    </tr>\n    <tr>\n      <th>39</th>\n      <td>Mandaluyong City under Siege by Virus</td>\n      <td>Mandaluyong City</td>\n      <td>None</td>\n    </tr>\n    <tr>\n      <th>40</th>\n      <td>Hepatitis E re-emerges in Santa Rosa</td>\n      <td>Santa Rosa</td>\n      <td>None</td>\n    </tr>\n    <tr>\n      <th>41</th>\n      <td>Zika worries in San Salvador</td>\n      <td>Salvador</td>\n      <td>None</td>\n    </tr>\n    <tr>\n      <th>42</th>\n      <td>Zika virus reported in Cleveland</td>\n      <td>Cleveland</td>\n      <td>None</td>\n    </tr>\n    <tr>\n      <th>43</th>\n      <td>More Zika patients reported in Austin</td>\n      <td>Austin</td>\n      <td>None</td>\n    </tr>\n    <tr>\n      <th>44</th>\n      <td>Zika outbreak in Piracicaba, Brazil</td>\n      <td>Piracicaba</td>\n      <td>Brazil</td>\n    </tr>\n    <tr>\n      <th>45</th>\n      <td>Lima tries to address Zika Concerns</td>\n      <td>Lima</td>\n      <td>None</td>\n    </tr>\n    <tr>\n      <th>46</th>\n      <td>More people in Toronto are infected with Hepat...</td>\n      <td>Toronto</td>\n      <td>None</td>\n    </tr>\n    <tr>\n      <th>47</th>\n      <td>18 new Zika Cases in Bogota</td>\n      <td>Bogotá</td>\n      <td>None</td>\n    </tr>\n    <tr>\n      <th>48</th>\n      <td>Spanish Flu Sighted in Antigua</td>\n      <td>None</td>\n      <td>None</td>\n    </tr>\n    <tr>\n      <th>49</th>\n      <td>Brisbane is infested with Meningitis</td>\n      <td>Brisbane</td>\n      <td>None</td>\n    </tr>\n  </tbody>\n</table>\n</div>"
     },
     "metadata": {},
     "execution_count": 34
    }
   ],
   "source": [
    "# Show top 50 of the df, may take few minutes to display\n",
    "df.head(50)"
   ]
  },
  {
   "cell_type": "code",
   "execution_count": 35,
   "metadata": {
    "tags": []
   },
   "outputs": [
    {
     "output_type": "stream",
     "name": "stdout",
     "text": "City   Country\ncount   619        15\nunique  510        10\ntop      Of  Malaysia\nfreq     45         3\n"
    }
   ],
   "source": [
    "# Summarize the contents of the df using describe method\n",
    "summary = df[['City', 'Country']].describe()\n",
    "print(summary)"
   ]
  },
  {
   "cell_type": "code",
   "execution_count": 36,
   "metadata": {
    "tags": []
   },
   "outputs": [
    {
     "output_type": "stream",
     "name": "stdout",
     "text": "City                                           Headline\n  Of              Case of Measles Reported in Vancouver\n  Of  Authorities are Worried about the Spread of Br...\n  Of  Authorities are Worried about the Spread of Ma...\n  Of  Rochester authorities confirmed the spread of ...\n  Of     Tokyo Encounters Severe Symptoms of Meningitis\n  Of  Authorities are Worried about the Spread of In...\n  Of            Spike of Pneumonia Cases in Springfield\n  Of  The Spread of Measles in Spokane has been Conf...\n  Of                    Outbreak of Zika in Panama City\n  Of    Urbana Encounters Severe Symptoms of Meningitis\n"
    }
   ],
   "source": [
    "# Show top 10 headlines with the city called \"Of\"\n",
    "of_cities = df[df.City == 'Of'][['City', 'Headline']]\n",
    "ten_of_cities = of_cities.head(10)\n",
    "print(ten_of_cities.to_string(index=False))\n",
    "\n",
    "# there are 45 headlines with the city called \"Of\"\n",
    "# we could change all cities to begin with a capitalization but we did not consider multiple matches in a headline"
   ]
  },
  {
   "cell_type": "code",
   "execution_count": 37,
   "metadata": {
    "tags": []
   },
   "outputs": [
    {
     "output_type": "stream",
     "name": "stdout",
     "text": "69 headlines match multiple cities\n"
    }
   ],
   "source": [
    "# Let's find out how many headlines contain 2 or more city matches\n",
    "\n",
    "def get_cities_in_headline(headline): # Will return a list of all unique cities in a headline\n",
    "    cities_in_headline = set() # Create a new set\n",
    "    for regex, name in city_to_name.items(): \n",
    "        match = regex.search(headline)\n",
    "        if match:\n",
    "            if headline[match.start()].isupper(): # Ensures first letter of city name is capitalized\n",
    "                cities_in_headline.add(name)\n",
    "\n",
    "    return list(cities_in_headline)\n",
    "\n",
    "# for each city_to_name (regex, gc name), go through the headline and if headline finds a match with regex, and if the matched headline is upper case then add the name to cities_in_headline set list\n",
    "\n",
    "df['Cities'] = df['Headline'].apply(get_cities_in_headline)\n",
    "df['Num_cities'] = df['Cities'].apply(len)\n",
    "df_multiple_cities = df[df.Num_cities > 1]\n",
    "num_rows, _ = df_multiple_cities.shape\n",
    "print(f\"{num_rows} headlines match multiple cities\")"
   ]
  },
  {
   "cell_type": "code",
   "execution_count": 38,
   "metadata": {
    "tags": []
   },
   "outputs": [
    {
     "output_type": "stream",
     "name": "stdout",
     "text": "Cities                                           Headline\n         [York, New York City]                    Could Zika Reach New York City?\n          [Miami Beach, Miami]                  First Case of Zika in Miami Beach\n               [San Juan, San]  San Juan reports 1st U.S. Zika-related death a...\n    [Los Angeles, Los Ángeles]               New Los Angeles Hairstyle goes Viral\n                  [Tampa, Bay]              Tampa Bay Area Zika Case Count Climbs\n        [Ho Chi Minh City, Ho]     Zika cases in Vietnam's Ho Chi Minh City surge\n              [San Diego, San]           Key Zika Findings in San Diego Institute\n           [Hīt, Kuala Lumpur]                 Kuala Lumpur is Hit By Zika Threat\n          [San Francisco, San]                   Zika Virus Reaches San Francisco\n [San Salvador, Salvador, San]                       Zika worries in San Salvador\n"
    }
   ],
   "source": [
    "# Gonna check what is happening with multiple cities in a headline\n",
    "# Check the 10 multiple cities and see which city names are being picked (long or short)\n",
    "\n",
    "ten_cities = df_multiple_cities[['Cities', 'Headline']].head(10)\n",
    "print(ten_cities.to_string(index=False))\n",
    "\n",
    "# it appears that the short invalid city names are being matched to the headlines that have multiple cities in a headline\n"
   ]
  },
  {
   "cell_type": "code",
   "execution_count": 39,
   "metadata": {},
   "outputs": [],
   "source": [
    "# We are going to assign the longest city-name as the representative city location if more than one matched city is found\n",
    "\n",
    "def get_longest_city(cities):\n",
    "    if cities:\n",
    "        return max(cities, key=len)\n",
    "    return None\n",
    "\n",
    "df['City'] = df['Cities'].apply(get_longest_city)"
   ]
  },
  {
   "cell_type": "code",
   "execution_count": 40,
   "metadata": {
    "tags": []
   },
   "outputs": [
    {
     "output_type": "stream",
     "name": "stdout",
     "text": "City                                           Headline\n Lima                Lima tries to address Zika Concerns\n Pune                     Pune woman diagnosed with Zika\n Rome  Authorities are Worried about the Spread of Ma...\n Molo                Molo Cholera Spread Causing Concern\n Miri                               Zika arrives in Miri\n Nadi  More people in Nadi are infected with HIV ever...\n Baud  Rumors about Tuberculosis Spreading in Baud ha...\n Kobe                     Chikungunya re-emerges in Kobe\n Waco                More Zika patients reported in Waco\n Erie                        Erie County sets Zika traps\n Kent                       Kent is infested with Rabies\n Reno  The Spread of Gonorrhea in Reno has been Confi...\n Sibu                      Zika symptoms spotted in Sibu\n Baku    The Spread of Herpes in Baku has been Confirmed\n Bonn  Contaminated Meat Brings Trouble for Bonn Farmers\n Jaen                         Zika Troubles come to Jaen\n Yuma                       Zika seminars in Yuma County\n Lyon                   Mad Cow Disease Detected in Lyon\n Yiwu  Authorities are Worried about the Spread of He...\n Suva  Suva authorities confirmed the spread of Rotav...\n"
    }
   ],
   "source": [
    "# Let's check if the headlines are being assigned a wrong short city name\n",
    "\n",
    "short_cities = df[df.City.str.len() <= 4][['City', 'Headline']]\n",
    "print(short_cities.to_string(index=False))"
   ]
  },
  {
   "cell_type": "code",
   "execution_count": 41,
   "metadata": {
    "tags": []
   },
   "outputs": [
    {
     "output_type": "stream",
     "name": "stdout",
     "text": "City    Country                                           Headline\n           Recife     Brazil            Mystery Virus Spreads in Recife, Brazil\n Ho Chi Minh City    Vietnam     Zika cases in Vietnam's Ho Chi Minh City surge\n          Bangkok   Thailand                     Thailand-Zika Virus in Bangkok\n       Piracicaba     Brazil                Zika outbreak in Piracicaba, Brazil\n            Klang   Malaysia                   Zika surfaces in Klang, Malaysia\n   Guatemala City  Guatemala  Rumors about Meningitis spreading in Guatemala...\n      Belize City     Belize                 Belize City under threat from Zika\n         Campinas     Brazil                   Student sick in Campinas, Brazil\n      Mexico City     Mexico               Zika outbreak spreads to Mexico City\n    Kota Kinabalu   Malaysia           New Zika Case in Kota Kinabalu, Malaysia\n      Johor Bahru   Malaysia                 Zika reaches Johor Bahru, Malaysia\n        Hong Kong  Hong Kong                    Norovirus Exposure in Hong Kong\n      Panama City     Panama                    Outbreak of Zika in Panama City\n        Singapore  Singapore                  Zika cases in Singapore reach 393\n      Panama City     Panama             Panama City’s first Zika related death\n"
    }
   ],
   "source": [
    "# Moving on to checking countries\n",
    "# Only 1 of the total headlines contain actual country info, let's check manually\n",
    "\n",
    "df_countries = df[df.Country.notnull()][['City',\n",
    "                                         'Country',\n",
    "                                         'Headline']]\n",
    "print(df_countries.to_string(index=False))"
   ]
  },
  {
   "cell_type": "code",
   "execution_count": 42,
   "metadata": {},
   "outputs": [],
   "source": [
    "# Since all headlines with country information has city information, we can assign latitude and longtitude without relying on country's coordinates\n",
    "# Let's get rid of country names from our analysis\n",
    "\n",
    "df.drop('Country', axis=1, inplace=True)"
   ]
  },
  {
   "cell_type": "code",
   "execution_count": 43,
   "metadata": {
    "tags": []
   },
   "outputs": [
    {
     "output_type": "stream",
     "name": "stdout",
     "text": "39 headlines contain no city matches.\n[['Louisiana Zika cases up to 26']\n ['Zika infects pregnant woman in Cebu']\n ['Spanish Flu Sighted in Antigua']\n ['Zika case reported in Oton']\n ['Hillsborough uses innovative trap against Zika 20 minutes ago']\n ['Maka City Experiences Influenza Outbreak']\n ['West Nile Virus Outbreak in Saint Johns']\n ['Malaria Exposure in Sussex']\n ['Greenwich Establishes Zika Task Force']\n ['Will West Nile Virus vaccine help Parsons?']]\n"
    }
   ],
   "source": [
    "# Check for rows where no locations were detected\n",
    "# Count the number of unmatched headlines and then print a subset of that data\n",
    "\n",
    "df_unmatched = df[df.City.isnull()]\n",
    "num_unmatched = len(df_unmatched)\n",
    "print(f\"{num_unmatched} headlines contain no city matches.\")\n",
    "print(df_unmatched.head(10)[['Headline']].values)"
   ]
  },
  {
   "cell_type": "code",
   "execution_count": 44,
   "metadata": {},
   "outputs": [],
   "source": [
    "# Since 39 headlines are only 6% of the total number of headlines, we are going to delete the missing city headlines\n",
    "# GeoNamesCache failed to identify these headlines\n",
    "# Price for deletion is reduction in data quality but it will not impact our results because we have high coverage of matched cities\n",
    "\n",
    "df = df[~df.City.isnull()][['City', 'Headline']]"
   ]
  },
  {
   "cell_type": "code",
   "execution_count": 45,
   "metadata": {},
   "outputs": [
    {
     "output_type": "execute_result",
     "data": {
      "text/plain": "              City                                           Headline\n0            Miami                           Zika Outbreak Hits Miami\n1    New York City                    Could Zika Reach New York City?\n2      Miami Beach                  First Case of Zika in Miami Beach\n3           Recife            Mystery Virus Spreads in Recife, Brazil\n4           Dallas            Dallas man comes down with case of Zika\n..             ...                                                ...\n645      Jerusalem  Rumors about Rabies spreading in Jerusalem hav...\n646         Indang              More Zika patients reported in Indang\n647           Suva  Suva authorities confirmed the spread of Rotav...\n648    Bella Vista         More Zika patients reported in Bella Vista\n649  Wichita Falls                     Zika Outbreak in Wichita Falls\n\n[611 rows x 2 columns]",
      "text/html": "<div>\n<style scoped>\n    .dataframe tbody tr th:only-of-type {\n        vertical-align: middle;\n    }\n\n    .dataframe tbody tr th {\n        vertical-align: top;\n    }\n\n    .dataframe thead th {\n        text-align: right;\n    }\n</style>\n<table border=\"1\" class=\"dataframe\">\n  <thead>\n    <tr style=\"text-align: right;\">\n      <th></th>\n      <th>City</th>\n      <th>Headline</th>\n    </tr>\n  </thead>\n  <tbody>\n    <tr>\n      <th>0</th>\n      <td>Miami</td>\n      <td>Zika Outbreak Hits Miami</td>\n    </tr>\n    <tr>\n      <th>1</th>\n      <td>New York City</td>\n      <td>Could Zika Reach New York City?</td>\n    </tr>\n    <tr>\n      <th>2</th>\n      <td>Miami Beach</td>\n      <td>First Case of Zika in Miami Beach</td>\n    </tr>\n    <tr>\n      <th>3</th>\n      <td>Recife</td>\n      <td>Mystery Virus Spreads in Recife, Brazil</td>\n    </tr>\n    <tr>\n      <th>4</th>\n      <td>Dallas</td>\n      <td>Dallas man comes down with case of Zika</td>\n    </tr>\n    <tr>\n      <th>...</th>\n      <td>...</td>\n      <td>...</td>\n    </tr>\n    <tr>\n      <th>645</th>\n      <td>Jerusalem</td>\n      <td>Rumors about Rabies spreading in Jerusalem hav...</td>\n    </tr>\n    <tr>\n      <th>646</th>\n      <td>Indang</td>\n      <td>More Zika patients reported in Indang</td>\n    </tr>\n    <tr>\n      <th>647</th>\n      <td>Suva</td>\n      <td>Suva authorities confirmed the spread of Rotav...</td>\n    </tr>\n    <tr>\n      <th>648</th>\n      <td>Bella Vista</td>\n      <td>More Zika patients reported in Bella Vista</td>\n    </tr>\n    <tr>\n      <th>649</th>\n      <td>Wichita Falls</td>\n      <td>Zika Outbreak in Wichita Falls</td>\n    </tr>\n  </tbody>\n</table>\n<p>611 rows × 2 columns</p>\n</div>"
     },
     "metadata": {},
     "execution_count": 45
    }
   ],
   "source": [
    "# Let's see our final df!\n",
    "df"
   ]
  }
 ],
 "metadata": {
  "kernelspec": {
   "display_name": "Python 3.7.6 64-bit ('discovering-disease-outbreaks': conda)",
   "language": "python",
   "name": "python37664bitdiscoveringdiseaseoutbreaksconda09a9b2cb96354988b41dc88fb71161ba"
  },
  "language_info": {
   "codemirror_mode": {
    "name": "ipython",
    "version": 3
   },
   "file_extension": ".py",
   "mimetype": "text/x-python",
   "name": "python",
   "nbconvert_exporter": "python",
   "pygments_lexer": "ipython3",
   "version": "3.7.6-final"
  }
 },
 "nbformat": 4,
 "nbformat_minor": 2
}